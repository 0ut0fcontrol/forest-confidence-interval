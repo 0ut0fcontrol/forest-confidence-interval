{
  "nbformat_minor": 0, 
  "nbformat": 4, 
  "cells": [
    {
      "execution_count": null, 
      "cell_type": "code", 
      "source": [
        "%matplotlib inline"
      ], 
      "outputs": [], 
      "metadata": {
        "collapsed": false
      }
    }, 
    {
      "source": [
        "\n# Plotting Classification Forest Error Bars\n\n\nThis example demonstrates the calculation of confidence intervals for :ref:`sklearn.ensemble.RandomForestClassifier` objects.\n\nThe data used here are synthetically generated to simulate a data-set in which email messages are labeled as spam based on 20 different features (the default\nof :ref:`sklearn.datasets.make_classification`).\n"
      ], 
      "cell_type": "markdown", 
      "metadata": {}
    }, 
    {
      "execution_count": null, 
      "cell_type": "code", 
      "source": [
        "import numpy as np\nfrom matplotlib import pyplot as plt\nimport sklearn.cross_validation as xval\nfrom sklearn.ensemble import RandomForestClassifier\nimport sklforestci as fci\nfrom sklearn.datasets import make_classification\n\nspam_X, spam_y = make_classification(5000)\n\n# split the datainto training and test set\nspam_X_train, spam_X_test, spam_y_train, spam_y_test = xval.train_test_split(\n                                                       spam_X, spam_y,\n                                                       test_size=0.2)\n\n# create RandomForestClassifier\nn_trees = 500\nspam_RFC = RandomForestClassifier(max_features=5, n_estimators=n_trees,\n                                  random_state=42)\nspam_RFC.fit(spam_X_train, spam_y_train)\nspam_y_hat = spam_RFC.predict_proba(spam_X_test)\n\n# calculate inbag and unbiased variance\nspam_inbag = fci.calc_inbag(spam_X_train.shape[0], spam_RFC)\nspam_V_IJ_unbiased = fci.random_forest_error(spam_RFC, spam_inbag,\n                                             spam_X_train, spam_X_test)\n\n# Plot forest prediction for emails and standard deviation for estimates\n# Blue points are spam emails; Green points are non-spam emails\nidx = np.where(spam_y_test == 1)[0]\nplt.errorbar(spam_y_hat[idx, 1], np.sqrt(spam_V_IJ_unbiased[idx]),\n             fmt='.', alpha=0.75)\n\nidx = np.where(spam_y_test == 0)[0]\nplt.errorbar(spam_y_hat[idx, 1], np.sqrt(spam_V_IJ_unbiased[idx]),\n             fmt='.', alpha=0.75)\n\nplt.xlabel('Prediction (probability spam)')\nplt.ylabel('Standard deviation')\nplt.show()"
      ], 
      "outputs": [], 
      "metadata": {
        "collapsed": false
      }
    }
  ], 
  "metadata": {
    "kernelspec": {
      "display_name": "Python 2", 
      "name": "python2", 
      "language": "python"
    }, 
    "language_info": {
      "mimetype": "text/x-python", 
      "nbconvert_exporter": "python", 
      "name": "python", 
      "file_extension": ".py", 
      "version": "2.7.6", 
      "pygments_lexer": "ipython2", 
      "codemirror_mode": {
        "version": 2, 
        "name": "ipython"
      }
    }
  }
}